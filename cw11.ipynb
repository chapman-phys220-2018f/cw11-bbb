{
 "cells": [
  {
   "cell_type": "markdown",
   "metadata": {
    "collapsed": false
   },
   "source": [
    "## Classwork 11"
   ]
  },
  {
   "cell_type": "code",
   "execution_count": 1,
   "metadata": {
    "collapsed": false
   },
   "outputs": [
    {
     "ename": "ModuleNotFoundError",
     "evalue": "No module named 'odes'",
     "output_type": "error",
     "traceback": [
      "\u001b[0;31m---------------------------------------------------------------------------\u001b[0m",
      "\u001b[0;31mModuleNotFoundError\u001b[0m                       Traceback (most recent call last)",
      "\u001b[0;32m<ipython-input-1-608e2e2d7f84>\u001b[0m in \u001b[0;36m<module>\u001b[0;34m()\u001b[0m\n\u001b[0;32m----> 1\u001b[0;31m \u001b[0;32mimport\u001b[0m \u001b[0modes\u001b[0m \u001b[0;32mas\u001b[0m \u001b[0mod\u001b[0m\u001b[0;34m\u001b[0m\u001b[0m\n\u001b[0m\u001b[1;32m      2\u001b[0m \u001b[0;32mimport\u001b[0m \u001b[0mnumpy\u001b[0m\u001b[0;34m\u001b[0m\u001b[0m\n\u001b[1;32m      3\u001b[0m \u001b[0;32mimport\u001b[0m \u001b[0mmatplotlib\u001b[0m\u001b[0;34m\u001b[0m\u001b[0m\n",
      "\u001b[0;31mModuleNotFoundError\u001b[0m: No module named 'odes'"
     ]
    }
   ],
   "source": [
    "import odes as ode\n",
    "import numpy\n",
    "import matplotlib"
   ]
  },
  {
   "cell_type": "markdown",
   "metadata": {
    "collapsed": false
   },
   "source": [
    "##### Euler's Method (accurate to 1st-order):\n",
    "   \n",
    "   $u_{k+1} = u_k + \\Delta t\\, f[t_k, u_k]$"
   ]
  },
  {
   "cell_type": "markdown",
   "metadata": {
    "collapsed": false
   },
   "source": [
    "Euler's Method begins by using the initial condition to recursively find each successive point $(u_{k+1})$. By finding the equation of the tangent line for $u_k$ at $t_k$ we are able to approximate the value of $u_{k+1}$ at $t_{k+1}$. These approximations will create the graph of an unknown function.\n",
    "\n",
    "- $\\Delta t\\,$ is $t_{k+1} - t_k$, working best when this iteration is smaller which makes the graph more accurate.\n",
    "- $u_k$ is the previous result of iteration, except for the first iteration when $u_k$ is $u_0$."
   ]
  },
  {
   "cell_type": "code",
   "execution_count": 0,
   "metadata": {
    "collapsed": false
   },
   "outputs": [
   ],
   "source": [
    "ode.Euler(10)"
   ]
  },
  {
   "cell_type": "code",
   "execution_count": 0,
   "metadata": {
    "collapsed": false
   },
   "outputs": [
   ],
   "source": [
    "ode.Euler(100)"
   ]
  },
  {
   "cell_type": "code",
   "execution_count": 0,
   "metadata": {
    "collapsed": false
   },
   "outputs": [
   ],
   "source": [
    "ode.Euler(1000)"
   ]
  },
  {
   "cell_type": "code",
   "execution_count": 0,
   "metadata": {
    "collapsed": false
   },
   "outputs": [
   ],
   "source": [
    "ode.Euler(2000)"
   ]
  },
  {
   "cell_type": "markdown",
   "metadata": {
    "collapsed": false
   },
   "source": [
    "---"
   ]
  },
  {
   "cell_type": "markdown",
   "metadata": {
    "collapsed": false
   },
   "source": [
    "#### Heun's (Trapezoid) Method (accurate to 2nd-order):\n",
    "   \n",
    "   $\\tilde{u}_{k+1} = u_k + \\Delta t\\, f[t_k, u_k]$, \n",
    "   \n",
    "   $u_{k+1} = u_k + (\\Delta t/2)(f[t_k, u_k] + f[t_{k+1}, \\tilde{u}_{k+1}])$  "
   ]
  },
  {
   "cell_type": "markdown",
   "metadata": {
    "collapsed": false
   },
   "source": [
    "Heun's Method referes to a modified Euler's Method; a two step process which uses the Euler's method in the first step. Heun's Method works to correct the shortcomings of Euler's Method's predictions. Although Euler's Method is fairly accurate along a small number of small steps, once the number of steps increases so does the error in the predicted solutions. Heun's Method finds the average slope of both ends of the error interval created from the Euler's Method in order to find the next theoretical solution."
   ]
  },
  {
   "cell_type": "code",
   "execution_count": 0,
   "metadata": {
    "collapsed": false
   },
   "outputs": [
   ],
   "source": [
    "ode.Heun(10)"
   ]
  },
  {
   "cell_type": "markdown",
   "metadata": {
    "collapsed": false
   },
   "source": [
    "How does this compare to the Euler's Method?"
   ]
  },
  {
   "cell_type": "code",
   "execution_count": 0,
   "metadata": {
    "collapsed": false
   },
   "outputs": [
   ],
   "source": [
    "ode.Heun(100)"
   ]
  },
  {
   "cell_type": "code",
   "execution_count": 0,
   "metadata": {
    "collapsed": false
   },
   "outputs": [
   ],
   "source": [
    "ode.Heun(1000)"
   ]
  },
  {
   "cell_type": "code",
   "execution_count": 0,
   "metadata": {
    "collapsed": false
   },
   "outputs": [
   ],
   "source": [
    "ode.Heun(2000)"
   ]
  },
  {
   "cell_type": "markdown",
   "metadata": {
    "collapsed": false
   },
   "source": [
    "---"
   ]
  },
  {
   "cell_type": "markdown",
   "metadata": {
    "collapsed": false
   },
   "source": [
    "##### 2nd-order Runge-Kutta Method (accurate to 2nd-order):\n",
    "   \n",
    "   $u_{k+1} = u_k + K_2$, \n",
    "   \n",
    "   $K_1 = \\Delta t\\, f[t_k, u_k]$, \n",
    "   \n",
    "   $K_2 = \\Delta t\\, f[t_k + \\Delta t/2, u_k + K_1/2]$  "
   ]
  },
  {
   "cell_type": "markdown",
   "metadata": {
    "collapsed": false
   },
   "source": [
    "To approximate a point x with the 2nd order Runge-Kutta you first find the midpoint of x and the previous point. You then find the tangent line at this midpoint and apply its slope to the first point to find the approximation of the point x."
   ]
  },
  {
   "cell_type": "code",
   "execution_count": 0,
   "metadata": {
    "collapsed": false
   },
   "outputs": [
   ],
   "source": [
    "ode.RK2(10)"
   ]
  },
  {
   "cell_type": "markdown",
   "metadata": {
    "collapsed": false
   },
   "source": [
    "How does this compare to the Euler's Method?"
   ]
  },
  {
   "cell_type": "code",
   "execution_count": 0,
   "metadata": {
    "collapsed": false
   },
   "outputs": [
   ],
   "source": [
    "ode.RK2(100)"
   ]
  },
  {
   "cell_type": "code",
   "execution_count": 0,
   "metadata": {
    "collapsed": false
   },
   "outputs": [
   ],
   "source": [
    "ode.RK2(1000)"
   ]
  },
  {
   "cell_type": "code",
   "execution_count": 0,
   "metadata": {
    "collapsed": false
   },
   "outputs": [
   ],
   "source": [
    "ode.RK2(2000)"
   ]
  },
  {
   "cell_type": "markdown",
   "metadata": {
    "collapsed": false
   },
   "source": [
    "---"
   ]
  },
  {
   "cell_type": "markdown",
   "metadata": {
    "collapsed": false
   },
   "source": [
    "##### 4th-order Runge-Kutta Method (accurate to 4th-order):\n",
    "   \n",
    "   $u_{k+1} = u_k + (K_1 + 2K_2 + 2K_3 + K_4)/6$, \n",
    "   \n",
    "   $K_1 = \\Delta t\\,f[t_k,u_k]$, \n",
    "   \n",
    "   $K_2 = \\Delta t\\, f[t_k + \\Delta t/2, u_k + K_1/2]$, \n",
    "   \n",
    "   $K_3 = \\Delta t\\, f[t_k + \\Delta t/2, u_k + K_2/2]$, \n",
    "   \n",
    "   $K_4 = \\Delta t\\,f[t_k + \\Delta t, u_k + K_3]$  "
   ]
  },
  {
   "cell_type": "markdown",
   "metadata": {
    "collapsed": false
   },
   "source": [
    "The 4th-order Runge-Kutta Method uses the average of four different approximations. Approximation $K_1$ finds the increment based on the initial slope using $u_k$. $K_2$ is the next increment using the Leapfrog Method from earlier using $u_k$ and $k_1$. $K_3$ increments again with the Leapfrog Method using $u_k$ and $k_2$. $K_4$ is the last increment based on the slope from the end of the interval using $u_k$ and $k_3$. These approximations are averaged with more weight given to the midpoint increments."
   ]
  },
  {
   "cell_type": "code",
   "execution_count": 0,
   "metadata": {
    "collapsed": false
   },
   "outputs": [
   ],
   "source": [
    "ode.RK4(10)"
   ]
  },
  {
   "cell_type": "markdown",
   "metadata": {
    "collapsed": false
   },
   "source": [
    "How does this compare to the Euler's Method?"
   ]
  },
  {
   "cell_type": "code",
   "execution_count": 0,
   "metadata": {
    "collapsed": false
   },
   "outputs": [
   ],
   "source": [
    "ode.RK4(100)"
   ]
  },
  {
   "cell_type": "code",
   "execution_count": 0,
   "metadata": {
    "collapsed": false
   },
   "outputs": [
   ],
   "source": [
    "ode.RK4(1000)"
   ]
  },
  {
   "cell_type": "code",
   "execution_count": 0,
   "metadata": {
    "collapsed": false
   },
   "outputs": [
   ],
   "source": [
    "ode.RK4(2000)"
   ]
  }
 ],
 "metadata": {
  "kernelspec": {
   "display_name": "Python 3 (Anaconda 5)",
   "language": "python",
   "name": "anaconda5"
  },
  "language_info": {
   "codemirror_mode": {
    "name": "ipython",
    "version": 3
   },
   "file_extension": ".py",
   "mimetype": "text/x-python",
   "name": "python",
   "nbconvert_exporter": "python",
   "pygments_lexer": "ipython3",
   "version": "3.6.5"
  }
 },
 "nbformat": 4,
 "nbformat_minor": 0
}